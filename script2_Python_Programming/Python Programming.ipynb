{
 "cells": [
  {
   "cell_type": "markdown",
   "id": "d4fcc908",
   "metadata": {},
   "source": [
    "# python 제어문"
   ]
  },
  {
   "cell_type": "markdown",
   "id": "a1849fa1",
   "metadata": {},
   "source": [
    "if 조건문"
   ]
  },
  {
   "cell_type": "code",
   "execution_count": 1,
   "id": "2af2ba17",
   "metadata": {},
   "outputs": [
    {
     "name": "stdout",
     "output_type": "stream",
     "text": [
      "택시타라\n"
     ]
    }
   ],
   "source": [
    "money = True\n",
    "if money:\n",
    "    print(\"택시타라\")\n",
    "else:\n",
    "    print(\"걸어가\")"
   ]
  },
  {
   "cell_type": "code",
   "execution_count": 2,
   "id": "dc3b59d7",
   "metadata": {},
   "outputs": [
    {
     "name": "stdout",
     "output_type": "stream",
     "text": [
      "택시 타\n"
     ]
    }
   ],
   "source": [
    "pocket = ['card', 'smartphone', 'money']\n",
    "if 'smartphone' in pocket:\n",
    "    print('택시 타')\n",
    "else:\n",
    "    print('걸어가')"
   ]
  },
  {
   "cell_type": "code",
   "execution_count": 3,
   "id": "1eead2bb",
   "metadata": {},
   "outputs": [
    {
     "name": "stdout",
     "output_type": "stream",
     "text": [
      "택시를 타고 가라\n"
     ]
    }
   ],
   "source": [
    "pocket = ['paper','cellphone']\n",
    "card = True\n",
    "if 'money' in pocket:\n",
    "    print('택시를 타고 가라')\n",
    "elif card:\n",
    "    print('택시를 타고 가라')\n",
    "else:\n",
    "    print('걸어가')"
   ]
  },
  {
   "cell_type": "markdown",
   "id": "bc0978d2",
   "metadata": {},
   "source": [
    "for 문"
   ]
  },
  {
   "cell_type": "code",
   "execution_count": 4,
   "id": "d7349b9d",
   "metadata": {},
   "outputs": [
    {
     "name": "stdout",
     "output_type": "stream",
     "text": [
      "one\n",
      "two\n",
      "three\n"
     ]
    }
   ],
   "source": [
    "test_list = ['one', 'two','three']\n",
    "for i in test_list:\n",
    "    print(i)"
   ]
  },
  {
   "cell_type": "code",
   "execution_count": 5,
   "id": "e617d97e",
   "metadata": {},
   "outputs": [
    {
     "name": "stdout",
     "output_type": "stream",
     "text": [
      "1 1\n",
      "2 2\n",
      "3 3\n",
      "4 4\n",
      "5 5\n",
      "6 6\n",
      "7 7\n",
      "8 8\n",
      "9 9\n",
      "10 10\n"
     ]
    }
   ],
   "source": [
    "add=0\n",
    "for i in range(1,11):\n",
    "    add =add + 1\n",
    "    print(i,add)"
   ]
  },
  {
   "cell_type": "code",
   "execution_count": 6,
   "id": "671aa87c",
   "metadata": {},
   "outputs": [
    {
     "data": {
      "text/plain": [
       "range(0, 5)"
      ]
     },
     "execution_count": 6,
     "metadata": {},
     "output_type": "execute_result"
    }
   ],
   "source": [
    "range(5)"
   ]
  },
  {
   "cell_type": "code",
   "execution_count": 7,
   "id": "e1a00486",
   "metadata": {},
   "outputs": [
    {
     "data": {
      "text/plain": [
       "[0, 1, 2, 3, 4]"
      ]
     },
     "execution_count": 7,
     "metadata": {},
     "output_type": "execute_result"
    }
   ],
   "source": [
    "list(range(5))"
   ]
  },
  {
   "cell_type": "code",
   "execution_count": 8,
   "id": "288458db",
   "metadata": {},
   "outputs": [
    {
     "data": {
      "text/plain": [
       "[1, 2, 3, 4, 5, 6, 7, 8, 9, 10]"
      ]
     },
     "execution_count": 8,
     "metadata": {},
     "output_type": "execute_result"
    }
   ],
   "source": [
    "list(range(1,11))"
   ]
  },
  {
   "cell_type": "code",
   "execution_count": 9,
   "id": "71113963",
   "metadata": {},
   "outputs": [
    {
     "data": {
      "text/plain": [
       "[1, 3, 5, 7, 9]"
      ]
     },
     "execution_count": 9,
     "metadata": {},
     "output_type": "execute_result"
    }
   ],
   "source": [
    "list(range(1,11,2))   #range([start,], stop, [increment])"
   ]
  },
  {
   "cell_type": "markdown",
   "id": "fbe0b44a",
   "metadata": {},
   "source": [
    "# python의 간략한 표현식"
   ]
  },
  {
   "cell_type": "markdown",
   "id": "8c52b1ca",
   "metadata": {},
   "source": [
    "리스트 내포(list comprehension)"
   ]
  },
  {
   "cell_type": "code",
   "execution_count": 10,
   "id": "3f7a42d4",
   "metadata": {},
   "outputs": [],
   "source": [
    "a=[1,2,3,4]"
   ]
  },
  {
   "cell_type": "code",
   "execution_count": 11,
   "id": "80daf187",
   "metadata": {},
   "outputs": [
    {
     "data": {
      "text/plain": [
       "[3, 6, 9, 12]"
      ]
     },
     "execution_count": 11,
     "metadata": {},
     "output_type": "execute_result"
    }
   ],
   "source": [
    "result=[]\n",
    "for num in a:\n",
    "    result.append(num *3 )\n",
    "result"
   ]
  },
  {
   "cell_type": "code",
   "execution_count": 12,
   "id": "43080532",
   "metadata": {},
   "outputs": [
    {
     "data": {
      "text/plain": [
       "[3, 6, 9, 12]"
      ]
     },
     "execution_count": 12,
     "metadata": {},
     "output_type": "execute_result"
    }
   ],
   "source": [
    "result = [num * 3 for num in a]   #리스트 comprehension\n",
    "result"
   ]
  },
  {
   "cell_type": "code",
   "execution_count": 13,
   "id": "3c2debdf",
   "metadata": {},
   "outputs": [
    {
     "data": {
      "text/plain": [
       "[6, 12]"
      ]
     },
     "execution_count": 13,
     "metadata": {},
     "output_type": "execute_result"
    }
   ],
   "source": [
    "result = [num * 3 for num in a if num % 2 ==0]\n",
    "result"
   ]
  },
  {
   "cell_type": "markdown",
   "id": "d37080d8",
   "metadata": {},
   "source": [
    "# 함수(functions)"
   ]
  },
  {
   "cell_type": "markdown",
   "id": "cad7209d",
   "metadata": {},
   "source": [
    "일반적 함수 사례: 입력값이 매개변수로 전달되고 결과값이 return문으로 반환되는 경우"
   ]
  },
  {
   "cell_type": "code",
   "execution_count": 14,
   "id": "ba66d2f4",
   "metadata": {},
   "outputs": [
    {
     "data": {
      "text/plain": [
       "7"
      ]
     },
     "execution_count": 14,
     "metadata": {},
     "output_type": "execute_result"
    }
   ],
   "source": [
    "def add(a,b):\n",
    "    return a + b\n",
    "add(3,4)"
   ]
  },
  {
   "cell_type": "code",
   "execution_count": 15,
   "id": "dd97c86f",
   "metadata": {},
   "outputs": [],
   "source": [
    "a=add(3,4)"
   ]
  },
  {
   "cell_type": "code",
   "execution_count": 16,
   "id": "56731f54",
   "metadata": {},
   "outputs": [
    {
     "data": {
      "text/plain": [
       "7"
      ]
     },
     "execution_count": 16,
     "metadata": {},
     "output_type": "execute_result"
    }
   ],
   "source": [
    "a"
   ]
  },
  {
   "cell_type": "markdown",
   "id": "bc8b07d1",
   "metadata": {},
   "source": [
    "매개변수의 사용방법"
   ]
  },
  {
   "cell_type": "code",
   "execution_count": 17,
   "id": "1aecf5a8",
   "metadata": {},
   "outputs": [
    {
     "data": {
      "text/plain": [
       "32"
      ]
     },
     "execution_count": 17,
     "metadata": {},
     "output_type": "execute_result"
    }
   ],
   "source": [
    "def power(a,b):\n",
    "    return a**b\n",
    "power(a=2,b=5)"
   ]
  },
  {
   "cell_type": "code",
   "execution_count": 18,
   "id": "49034b78",
   "metadata": {},
   "outputs": [
    {
     "data": {
      "text/plain": [
       "25"
      ]
     },
     "execution_count": 18,
     "metadata": {},
     "output_type": "execute_result"
    }
   ],
   "source": [
    "power(b=2,a=5)  #매개변수를 명시적으로 지정하는 경우\n"
   ]
  },
  {
   "cell_type": "code",
   "execution_count": 19,
   "id": "eefcfab7",
   "metadata": {},
   "outputs": [
    {
     "data": {
      "text/plain": [
       "32"
      ]
     },
     "execution_count": 19,
     "metadata": {},
     "output_type": "execute_result"
    }
   ],
   "source": [
    "power(2,5)   #매개변수를 명시적으로 지정하지 않는 경우"
   ]
  },
  {
   "cell_type": "markdown",
   "id": "0954b7fe",
   "metadata": {},
   "source": [
    "#### 매개변수에 초기값(default)를 지정하는 경우"
   ]
  },
  {
   "cell_type": "code",
   "execution_count": 20,
   "id": "5b3818ad",
   "metadata": {},
   "outputs": [],
   "source": [
    "def say_myself(name, old, man=True):\n",
    "    print(f'나의 이름은 {name}입니다.')\n",
    "    print(f'나의는 {old}입니다.')\n",
    "    if man:\n",
    "        print('남자입니다.')\n",
    "    else:\n",
    "        print('여자입니다.')"
   ]
  },
  {
   "cell_type": "code",
   "execution_count": 21,
   "id": "d7743a33",
   "metadata": {},
   "outputs": [
    {
     "name": "stdout",
     "output_type": "stream",
     "text": [
      "나의 이름은 홍길동입니다.\n",
      "나의는 27입니다.\n",
      "남자입니다.\n"
     ]
    }
   ],
   "source": [
    "say_myself(\"홍길동\",27)"
   ]
  },
  {
   "cell_type": "code",
   "execution_count": 22,
   "id": "b37efe36",
   "metadata": {},
   "outputs": [
    {
     "name": "stdout",
     "output_type": "stream",
     "text": [
      "나의 이름은 홍길동입니다.\n",
      "나의는 27입니다.\n",
      "남자입니다.\n"
     ]
    }
   ],
   "source": [
    "say_myself(\"홍길동\", 27, True)"
   ]
  },
  {
   "cell_type": "code",
   "execution_count": 24,
   "id": "5a38fa42",
   "metadata": {},
   "outputs": [
    {
     "name": "stdout",
     "output_type": "stream",
     "text": [
      "나의 이름은 성춘향입니다.\n",
      "나의는 18입니다.\n",
      "여자입니다.\n"
     ]
    }
   ],
   "source": [
    "say_myself(\"성춘향\", 18, False)"
   ]
  },
  {
   "cell_type": "markdown",
   "id": "0f6c462d",
   "metadata": {},
   "source": [
    "#### 입력되는 매개변수의 개수를 사전에 모를 경우"
   ]
  },
  {
   "cell_type": "code",
   "execution_count": 30,
   "id": "b7ce2448",
   "metadata": {},
   "outputs": [],
   "source": [
    "def add_many(*args):\n",
    "    result = 0\n",
    "    for i in args:\n",
    "        result = result + i\n",
    "    return result"
   ]
  },
  {
   "cell_type": "code",
   "execution_count": 31,
   "id": "695b7e7e",
   "metadata": {},
   "outputs": [
    {
     "data": {
      "text/plain": [
       "6"
      ]
     },
     "execution_count": 31,
     "metadata": {},
     "output_type": "execute_result"
    }
   ],
   "source": [
    "add_many(1,2,3)  #튜플로 넣음"
   ]
  },
  {
   "cell_type": "code",
   "execution_count": 35,
   "id": "7a8d40cd",
   "metadata": {},
   "outputs": [],
   "source": [
    "def add_mui(choice,*args):\n",
    "    if choice == 'add':\n",
    "        result = 0\n",
    "        for i in args:\n",
    "            result = result + i\n",
    "    elif choice == 'mui':\n",
    "        result = 1\n",
    "        for i in args:\n",
    "            result = result * i\n",
    "    return result"
   ]
  },
  {
   "cell_type": "code",
   "execution_count": 36,
   "id": "6ae22097",
   "metadata": {},
   "outputs": [
    {
     "data": {
      "text/plain": [
       "15"
      ]
     },
     "execution_count": 36,
     "metadata": {},
     "output_type": "execute_result"
    }
   ],
   "source": [
    "add_mui('add', 1,2,3,4,5)"
   ]
  },
  {
   "cell_type": "code",
   "execution_count": 37,
   "id": "3f160ad6",
   "metadata": {},
   "outputs": [
    {
     "data": {
      "text/plain": [
       "24"
      ]
     },
     "execution_count": 37,
     "metadata": {},
     "output_type": "execute_result"
    }
   ],
   "source": [
    "add_mui('mui', 1,2,3,4)"
   ]
  },
  {
   "cell_type": "markdown",
   "id": "901c011d",
   "metadata": {},
   "source": [
    "#### return문 사용방법"
   ]
  },
  {
   "cell_type": "code",
   "execution_count": 38,
   "id": "521d32dc",
   "metadata": {},
   "outputs": [
    {
     "data": {
      "text/plain": [
       "(7, 12)"
      ]
     },
     "execution_count": 38,
     "metadata": {},
     "output_type": "execute_result"
    }
   ],
   "source": [
    "def add_and_mui(a,b):\n",
    "    return a+b, a*b\n",
    "add_and_mui(3,4)    #return에 여러개의 값이 있으면 튜플로 작성되어 하나의 값으로 출력"
   ]
  },
  {
   "cell_type": "code",
   "execution_count": 39,
   "id": "1f769b25",
   "metadata": {},
   "outputs": [
    {
     "name": "stdout",
     "output_type": "stream",
     "text": [
      "7\n",
      "12\n"
     ]
    }
   ],
   "source": [
    "result1, result2 = add_and_mui(3,4)\n",
    "print(result1)\n",
    "print(result2)"
   ]
  },
  {
   "cell_type": "code",
   "execution_count": 41,
   "id": "38aca326",
   "metadata": {},
   "outputs": [
    {
     "data": {
      "text/plain": [
       "7"
      ]
     },
     "execution_count": 41,
     "metadata": {},
     "output_type": "execute_result"
    }
   ],
   "source": [
    "def add_and_mui(a,b):\n",
    "    return a+b\n",
    "    return a*b\n",
    "add_and_mui(3,4)   #return문을 만나면 함수를 빠져나옴, 즉 처음 return 문 이후는 수렴 x"
   ]
  },
  {
   "cell_type": "markdown",
   "id": "d4157343",
   "metadata": {},
   "source": [
    "# 클래스와 객체 "
   ]
  },
  {
   "cell_type": "markdown",
   "id": "ad9ce4db",
   "metadata": {},
   "source": [
    "#### 내용이 없는 기본적 클래스 구조 만들기 "
   ]
  },
  {
   "cell_type": "code",
   "execution_count": 42,
   "id": "49be254f",
   "metadata": {},
   "outputs": [],
   "source": [
    "class FourCal:\n",
    "    pass"
   ]
  },
  {
   "cell_type": "code",
   "execution_count": 44,
   "id": "a8a25ece",
   "metadata": {},
   "outputs": [],
   "source": [
    "a=FourCal()"
   ]
  },
  {
   "cell_type": "code",
   "execution_count": 45,
   "id": "58927aa9",
   "metadata": {},
   "outputs": [
    {
     "data": {
      "text/plain": [
       "__main__.FourCal"
      ]
     },
     "execution_count": 45,
     "metadata": {},
     "output_type": "execute_result"
    }
   ],
   "source": [
    "type(a)"
   ]
  },
  {
   "cell_type": "markdown",
   "id": "e38d5b92",
   "metadata": {},
   "source": [
    "## 사칙연산 클래스 FourCal 만들기 "
   ]
  },
  {
   "cell_type": "code",
   "execution_count": 46,
   "id": "a33f9eb6",
   "metadata": {},
   "outputs": [],
   "source": [
    "class FourCal:\n",
    "    def __init__(self, first, second):\n",
    "        self.first = first\n",
    "        self.second = second\n",
    "    def setdata(self, first, second):\n",
    "        self.first = first\n",
    "        self.second = second\n",
    "    def add(self):\n",
    "        result = self.first + self.second\n",
    "        return result\n",
    "    def mul(self):\n",
    "        result = self.first * self.second\n",
    "        return result\n",
    "    def sub(self):\n",
    "        result = self.first - self. second\n",
    "        return result\n",
    "    def div(self):\n",
    "        result = self.first/self.second\n",
    "        return result"
   ]
  },
  {
   "cell_type": "code",
   "execution_count": 48,
   "id": "d63e7383",
   "metadata": {},
   "outputs": [],
   "source": [
    "a=FourCal(4,2)"
   ]
  },
  {
   "cell_type": "code",
   "execution_count": 49,
   "id": "366d8235",
   "metadata": {},
   "outputs": [
    {
     "data": {
      "text/plain": [
       "6"
      ]
     },
     "execution_count": 49,
     "metadata": {},
     "output_type": "execute_result"
    }
   ],
   "source": [
    "a.add()  #내가 만든 객체 add"
   ]
  },
  {
   "cell_type": "code",
   "execution_count": 50,
   "id": "72d24da3",
   "metadata": {},
   "outputs": [
    {
     "data": {
      "text/plain": [
       "4"
      ]
     },
     "execution_count": 50,
     "metadata": {},
     "output_type": "execute_result"
    }
   ],
   "source": [
    "a.first"
   ]
  },
  {
   "cell_type": "code",
   "execution_count": 51,
   "id": "fbde91d6",
   "metadata": {},
   "outputs": [
    {
     "data": {
      "text/plain": [
       "2"
      ]
     },
     "execution_count": 51,
     "metadata": {},
     "output_type": "execute_result"
    }
   ],
   "source": [
    "a.second"
   ]
  },
  {
   "cell_type": "code",
   "execution_count": 52,
   "id": "761495f5",
   "metadata": {},
   "outputs": [
    {
     "data": {
      "text/plain": [
       "__main__.FourCal"
      ]
     },
     "execution_count": 52,
     "metadata": {},
     "output_type": "execute_result"
    }
   ],
   "source": [
    "type(a)"
   ]
  },
  {
   "cell_type": "code",
   "execution_count": 54,
   "id": "0b99cfaa",
   "metadata": {},
   "outputs": [],
   "source": [
    "a.setdata(10,2)"
   ]
  },
  {
   "cell_type": "code",
   "execution_count": 55,
   "id": "a663b6dd",
   "metadata": {},
   "outputs": [
    {
     "data": {
      "text/plain": [
       "12"
      ]
     },
     "execution_count": 55,
     "metadata": {},
     "output_type": "execute_result"
    }
   ],
   "source": [
    "a.add()"
   ]
  },
  {
   "cell_type": "code",
   "execution_count": 56,
   "id": "184c3409",
   "metadata": {},
   "outputs": [
    {
     "data": {
      "text/plain": [
       "10"
      ]
     },
     "execution_count": 56,
     "metadata": {},
     "output_type": "execute_result"
    }
   ],
   "source": [
    "a.first"
   ]
  },
  {
   "cell_type": "code",
   "execution_count": null,
   "id": "a0fa02bc",
   "metadata": {},
   "outputs": [],
   "source": []
  }
 ],
 "metadata": {
  "kernelspec": {
   "display_name": "Python 3",
   "language": "python",
   "name": "python3"
  },
  "language_info": {
   "codemirror_mode": {
    "name": "ipython",
    "version": 3
   },
   "file_extension": ".py",
   "mimetype": "text/x-python",
   "name": "python",
   "nbconvert_exporter": "python",
   "pygments_lexer": "ipython3",
   "version": "3.8.8"
  }
 },
 "nbformat": 4,
 "nbformat_minor": 5
}
